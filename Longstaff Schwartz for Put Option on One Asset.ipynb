{
 "cells": [
  {
   "cell_type": "code",
   "execution_count": 1,
   "metadata": {},
   "outputs": [],
   "source": [
    "# pricing an American put option - Longstaff-Schwarz \n",
    "import numpy as np \n",
    "import numpy.random as npr\n",
    "import matplotlib.pyplot as plt\n",
    "from scipy.stats import norm"
   ]
  },
  {
   "cell_type": "code",
   "execution_count": 2,
   "metadata": {},
   "outputs": [],
   "source": [
    "# parameters of the stock and the option \n",
    "S0 = 40.0\n",
    "K = 40.0 \n",
    "r = 0.06\n",
    "sigma = 0.4\n",
    "T = 2.0"
   ]
  },
  {
   "cell_type": "code",
   "execution_count": 3,
   "metadata": {},
   "outputs": [],
   "source": [
    "# numeric parameters - number of intervals, number of samples, random numbers etc. \n",
    "N = 500\n",
    "h = T/N \n",
    "M = 50000"
   ]
  },
  {
   "cell_type": "code",
   "execution_count": 4,
   "metadata": {},
   "outputs": [],
   "source": [
    "S = S0*np.ones([M,N+1])\n",
    "Z = npr.randn(M,N)\n",
    "b = 3               # number of basis functions - up to 4\n",
    "disc = np.exp(-r*h)      # one period discount factor "
   ]
  },
  {
   "cell_type": "code",
   "execution_count": 5,
   "metadata": {},
   "outputs": [],
   "source": [
    "# generate price paths using the GBM formula\n",
    "for n in range(0,N): \n",
    "    S[:,n+1]=S[:,n]*np.exp((r-0.5*sigma**2)*h + Z[:,n]*sigma*np.sqrt(h))"
   ]
  },
  {
   "cell_type": "code",
   "execution_count": 6,
   "metadata": {},
   "outputs": [],
   "source": [
    "# exercise value\n",
    "def exer(SS):\n",
    "    return((K-SS)*(K>SS))\n",
    "\n",
    "# Basis functions\n",
    "def psi(i,SS):\n",
    "    if i==0:\n",
    "        return(1)\n",
    "    elif i==1:\n",
    "        return((1-SS/K))\n",
    "    elif i==2:\n",
    "        return((1-SS/K)**2)\n",
    "    elif i==3:\n",
    "        return((1-SS/K)**3)"
   ]
  },
  {
   "cell_type": "code",
   "execution_count": 7,
   "metadata": {},
   "outputs": [],
   "source": [
    "c = np.zeros([b,N+1])     # coefficients of continuation values\n",
    "MM = np.zeros([b,b])      # normalization matrix\n",
    "val = np.zeros([M,N+1])   # option values in simulation \n",
    "val[:,N] = exer(S[:,N])   # option values at final time"
   ]
  },
  {
   "cell_type": "code",
   "execution_count": 8,
   "metadata": {},
   "outputs": [
    {
     "name": "stdout",
     "output_type": "stream",
     "text": [
      "price of the option is: 6.948, with a stochastic error of 0.03037\n"
     ]
    }
   ],
   "source": [
    "for k in range(N-1,0,-1):\n",
    "    sel = S[:,k]<K\n",
    "    val[~sel,k] =  disc*val[~sel,k+1]\n",
    "    Ssel = S[sel,k]\n",
    "    valsel = disc*val[sel,k+1]\n",
    "    for i in range(0,b):\n",
    "        c[i,k] = np.mean( valsel *  psi(i,Ssel))      # was called d in file \n",
    "        MM[i,i] = np.mean( psi(i,Ssel) *  psi(i,Ssel) )   \n",
    "        for j in range(i+1,b):\n",
    "            MM[i,j] = np.mean( psi(i,Ssel) *  psi(j,Ssel) ) \n",
    "            MM[j,i] = MM[i,j] \n",
    "    c[:,k] = np.linalg.solve(MM,c[:,k])\n",
    "    cont = np.zeros(Ssel.size)\n",
    "    for i in range(0,b):\n",
    "        cont = cont + c[i,k] * psi(i,Ssel)\n",
    "    val[sel,k] = exer(Ssel) * (exer(Ssel) > cont) + disc*val[sel,k+1] * (exer(Ssel) < cont)\n",
    "val[:,0] =  disc*val[:,1]\n",
    "V1=np.mean(val[:,0])\n",
    "e1=np.std(val[:,0])/np.sqrt(M)\n",
    "print(\"price of the option is: {:.3f}, with a stochastic error of {:.5f}\".format(V1,e1))"
   ]
  },
  {
   "cell_type": "code",
   "execution_count": 9,
   "metadata": {},
   "outputs": [
    {
     "name": "stdout",
     "output_type": "stream",
     "text": [
      "price of the option is: 6.878, with a stochastic error of 0.02144\n"
     ]
    }
   ],
   "source": [
    "# generate a further set of paths to get lower bound on option price \n",
    "S0 = 40\n",
    "M2 = 100000\n",
    "S2 = S0*np.ones([M2,N+1])\n",
    "Z2 = npr.randn(M2,N)\n",
    "for n in range(0,N): \n",
    "    tem =(r-0.5*sigma**2)*h + np.sqrt(h)*sigma*Z2[:,n] \n",
    "    S2[:,n+1]=S2[:,n]*np.exp(tem)\n",
    "val2 = np.zeros(M2)\n",
    "for n in range(1,N+1): \n",
    "    tem1 = exer( S2[:,n] )\n",
    "    tem2 = np.zeros(M2)\n",
    "    for i in range(0,b):\n",
    "        tem2 = tem2 + c[i,n] * psi(i,S2[:,n])\n",
    "    val2 = val2 + np.exp(-r*n*h)*(val2==0)*(tem1>tem2)*tem1\n",
    "V2=np.mean(val2)\n",
    "e2=np.std(val2)/np.sqrt(M2)\n",
    "print(\"price of the option is: {:.3f}, with a stochastic error of {:.5f}\".format(V2,e2))    "
   ]
  }
 ],
 "metadata": {
  "kernelspec": {
   "display_name": "Python 3",
   "language": "python",
   "name": "python3"
  },
  "language_info": {
   "codemirror_mode": {
    "name": "ipython",
    "version": 3
   },
   "file_extension": ".py",
   "mimetype": "text/x-python",
   "name": "python",
   "nbconvert_exporter": "python",
   "pygments_lexer": "ipython3",
   "version": "3.7.4"
  }
 },
 "nbformat": 4,
 "nbformat_minor": 4
}
